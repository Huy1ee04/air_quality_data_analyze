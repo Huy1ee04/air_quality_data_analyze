{
 "cells": [
  {
   "cell_type": "code",
   "execution_count": 2,
   "id": "98823e5a",
   "metadata": {},
   "outputs": [
    {
     "name": "stdout",
     "output_type": "stream",
     "text": [
      "great_expectations, version 0.18.22\n",
      "\u001b[0m"
     ]
    }
   ],
   "source": [
    "!great_expectations --version  "
   ]
  },
  {
   "cell_type": "code",
   "execution_count": 3,
   "id": "f2665c9e",
   "metadata": {},
   "outputs": [
    {
     "name": "stdout",
     "output_type": "stream",
     "text": [
      "0.18.22\n"
     ]
    }
   ],
   "source": [
    "import great_expectations as gx\n",
    "print(gx.__version__)\n",
    "import os\n",
    "os.environ[\"GOOGLE_APPLICATION_CREDENTIALS\"] = \"Users/buihung/project bigdata/airflow/google-key.json\""
   ]
  },
  {
   "cell_type": "code",
   "execution_count": null,
   "id": "f937b191",
   "metadata": {},
   "outputs": [],
   "source": [
    "# %%\n",
    "# gx context setup -- file mode\n",
    "context = gx.get_context(mode='file')\n"
   ]
  },
  {
   "cell_type": "code",
   "execution_count": null,
   "id": "83e316ca",
   "metadata": {},
   "outputs": [],
   "source": [
    "# define a `Data Source`\n",
    "data_source_name = \"?\"\n",
    "bucket_or_name = \"?\"\n",
    "gcs_options = {}\n",
    "data_source = context.data_sources.add_pandas_gcs(\n",
    "    name=\"?\", bucket_or_name=\"?\", gcs_options=gcs_options\n",
    ")"
   ]
  },
  {
   "cell_type": "code",
   "execution_count": null,
   "id": "31e920c3",
   "metadata": {},
   "outputs": [],
   "source": [
    "# define `Batch Definition` A Batch Definition determines which records in a Data Asset are retrieved for Validation\n",
    "batch_definition_name = \"goibibo_flights_data_whole\"\n",
    "batch_definition_path = \"goibibo_flights_data.csv\"\n",
    "batch_definition = data_asset.add_batch_definition(\n",
    "    name=batch_definition_name\n",
    ")\n",
    "batch = batch_definition.get_batch()\n",
    "print(batch.head())"
   ]
  },
  {
   "cell_type": "code",
   "execution_count": null,
   "id": "4df9e989",
   "metadata": {},
   "outputs": [],
   "source": [
    "# build Expectations and add to expectation suite\n",
    "suite =  context.suites.add(\n",
    "    gx.ExpectationSuite(name=\"flight_expectation_suite\")\n",
    ")\n",
    "expectation1 = gx.expectations.ExpectColumnValuesToNotBeNull(column=\"airline\")\n",
    "expectation2 = gx.expectations.ExpectColumnDistinctValuesToBeInSet(\n",
    "    column=\"class\",\n",
    "    value_set=['economy','business']\n",
    ")\n",
    "suite.add_expectation(expectation=expectation1)\n",
    "suite.add_expectation(expectation=expectation2)"
   ]
  },
  {
   "cell_type": "code",
   "execution_count": null,
   "id": "6eb095b1",
   "metadata": {},
   "outputs": [],
   "source": [
    "# define `Validation Definition`: A Validation Definition is a fixed reference that links a Batch of data to an Expectation Suite.\n",
    "\n",
    "validation_definition = gx.ValidationDefinition(\n",
    "    data=batch_definition, suite=suite, name='flight_batch_definition'\n",
    ")\n",
    "validation_definition = context.validation_definitions.add(validation_definition)\n",
    "validation_results = validation_definition.run()\n",
    "print(validation_results)\n",
    "# %%\n",
    "# Create a Checkpoint with Actions for multiple validation_definition\n",
    "validation_definitions = [\n",
    "    validation_definition # can be multiple definitions\n",
    "]"
   ]
  },
  {
   "cell_type": "code",
   "execution_count": null,
   "id": "e3517455",
   "metadata": {},
   "outputs": [],
   "source": [
    "# Create a list of Actions for the Checkpoint to perform\n",
    "action_list = [\n",
    "    # This Action sends a Slack Notification if an Expectation fails.\n",
    "    gx.checkpoint.SlackNotificationAction(\n",
    "        name=\"send_slack_notification_on_failed_expectations\",\n",
    "        slack_token=\"${validation_notification_slack_webhook}\",\n",
    "        slack_channel=\"${validation_notification_slack_channel}\",\n",
    "        notify_on=\"failure\",\n",
    "        show_failed_expectations=True,\n",
    "    ),\n",
    "    # This Action updates the Data Docs static website with the Validation\n",
    "    #   Results after the Checkpoint is run.\n",
    "    gx.checkpoint.UpdateDataDocsAction(\n",
    "        name=\"update_all_data_docs\",\n",
    "    ),\n",
    "]\n",
    "\n",
    "checkpoint = gx.Checkpoint(\n",
    "    name=\"flight_checkpoint\",\n",
    "    validation_definitions=validation_definitions,\n",
    "    actions=action_list,\n",
    "    result_format={\"result_format\": \"COMPLETE\"},\n",
    ")\n",
    "\n",
    "context.checkpoints.add(checkpoint)"
   ]
  },
  {
   "cell_type": "code",
   "execution_count": null,
   "id": "bf88d7b4",
   "metadata": {},
   "outputs": [],
   "source": [
    "# Run checkpoint\n",
    "validation_results = checkpoint.run()\n",
    "print(validation_results)"
   ]
  }
 ],
 "metadata": {
  "kernelspec": {
   "display_name": "gx_env",
   "language": "python",
   "name": "python3"
  },
  "language_info": {
   "codemirror_mode": {
    "name": "ipython",
    "version": 3
   },
   "file_extension": ".py",
   "mimetype": "text/x-python",
   "name": "python",
   "nbconvert_exporter": "python",
   "pygments_lexer": "ipython3",
   "version": "3.13.2"
  }
 },
 "nbformat": 4,
 "nbformat_minor": 5
}
